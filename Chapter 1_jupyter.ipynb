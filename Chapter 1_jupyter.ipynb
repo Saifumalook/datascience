{
 "cells": [
  {
   "cell_type": "markdown",
   "id": "9c5c8550-d529-4a58-abe7-d1a85f1a676b",
   "metadata": {
    "tags": []
   },
   "source": [
    "## How to use jupyter notebook?\n",
    "### **Chapter No. 1.**  \n",
    "#### 1. Basics of python"
   ]
  },
  {
   "cell_type": "markdown",
   "id": "c8d76ff5-3579-4183-b345-a58d8fb42e5b",
   "metadata": {},
   "source": [
    "## **01_My first program**"
   ]
  },
  {
   "cell_type": "code",
   "execution_count": 1,
   "id": "49f8cbe9-47a7-4548-b681-ca19c12a985b",
   "metadata": {
    "tags": []
   },
   "outputs": [
    {
     "name": "stdout",
     "output_type": "stream",
     "text": [
      "hello world\n",
      "we are learning with ammar\n",
      "2+3\n",
      "I am getting problem with visual studio\n",
      "hello\n",
      "2+7\n",
      "11\n"
     ]
    }
   ],
   "source": [
    "# Basics of program writing. For example, you can use \"print\" function to display results.\n",
    "print(\"hello world\")\n",
    "print(\"we are learning with ammar\") \n",
    "print(\"2+3\") \n",
    "print(\"I am getting problem with visual studio\")\n",
    "print(\"hello\") \n",
    "print(\"2+7\") \n",
    "print(2+9)"
   ]
  },
  {
   "cell_type": "markdown",
   "id": "32ffa1ad",
   "metadata": {},
   "source": [
    "## **02_Operators**"
   ]
  },
  {
   "cell_type": "code",
   "execution_count": 5,
   "id": "13971977-7b86-46d6-aec5-dcc258662d74",
   "metadata": {},
   "outputs": [
    {
     "name": "stdout",
     "output_type": "stream",
     "text": [
      "3.0\n",
      "11.2\n",
      "18\n",
      "-1\n",
      "20\n",
      "4.0\n"
     ]
    }
   ],
   "source": [
    "# Please have a look on the examples of operators.\n",
    "print (6/2) \n",
    "print(56/5) \n",
    "print(56//3)\n",
    "print(4-5)\n",
    "print(5*4)\n",
    "print(2*3/3+6-4)\n",
    "\n",
    "\n",
    "#PEDMAS\n",
    "#parenthesis, exponents, division, multyplying, Adition, substractions,\n",
    "#sequence of M D & A S will be left to right "
   ]
  },
  {
   "cell_type": "markdown",
   "id": "ed98cdd2-c534-49ea-aeda-21b4046e98e9",
   "metadata": {},
   "source": [
    "*PEDMAS \n",
    "*parenthesis, exponents, division, multyplying, Adition, substractions\n",
    "left to right sequence for M D & A S*"
   ]
  },
  {
   "cell_type": "markdown",
   "id": "a237fd87-3727-4ad0-9ec3-a469e841cd8c",
   "metadata": {
    "tags": []
   },
   "source": [
    "## **03_Strings**"
   ]
  },
  {
   "cell_type": "code",
   "execution_count": 3,
   "id": "f8f55df3",
   "metadata": {},
   "outputs": [
    {
     "name": "stdout",
     "output_type": "stream",
     "text": [
      "hello world\n",
      "we are learning with ammar\n",
      "test for single quates\n",
      "test for double quates\n",
      "test for triple quates\n"
     ]
    }
   ],
   "source": [
    "print(\"hello world\")\n",
    "print(\"we are learning with ammar\")\n",
    "\n",
    "print('test for single quates')\n",
    "print(\"test for double quates\")\n",
    "print('''test for triple quates''')"
   ]
  },
  {
   "cell_type": "markdown",
   "id": "e71c9b5e-5f27-44b9-a113-00f3c7f4ce3f",
   "metadata": {},
   "source": [
    "## **04_Comments**"
   ]
  },
  {
   "cell_type": "code",
   "execution_count": 6,
   "id": "a6b3886a",
   "metadata": {},
   "outputs": [
    {
     "name": "stdout",
     "output_type": "stream",
     "text": [
      "How are you?\n",
      "We are learing with aamar\n",
      "8\n",
      "abc\n"
     ]
    }
   ],
   "source": [
    "print(\"How are you?\") \n",
    "# writing hash in VS code in mac by pressing option+3\n",
    "print(\"We are learing with aamar\")\n",
    "print(2+6)\n",
    "print(\"abc\")\n",
    "# comment out code by pressing command+K+C\n",
    "# open operator by pressing shift+command+P"
   ]
  },
  {
   "cell_type": "markdown",
   "id": "56aa4b25",
   "metadata": {},
   "source": [
    "**05_Variables**"
   ]
  },
  {
   "cell_type": "code",
   "execution_count": 5,
   "id": "6627395b",
   "metadata": {},
   "outputs": [
    {
     "name": "stdout",
     "output_type": "stream",
     "text": [
      "5\n",
      "we are learning python with aamar\n",
      "20\n",
      "<class 'int'>\n",
      "<class 'str'>\n",
      "15\n",
      "<class 'int'>\n"
     ]
    }
   ],
   "source": [
    "# # Variables: objects containing specific values\n",
    "x=5\n",
    "print(x)  #numeric or interger variable\n",
    "y=\"we are learning python with aamar\" #string variable\n",
    "print(y)\n",
    "x=x+15 \n",
    "print (x) \n",
    "#types of variable\n",
    "type(x)\n",
    "print (type(x))\n",
    "print (type(y))\n",
    "# # print_type_class\n",
    "# # rules to assign variable\n",
    "# # 1- variable should contain a number or a string or underscore\n",
    "# # 2- donot start with numbers\n",
    "# # 3- spaces are not allowed\n",
    "# # 4- dont use keywords used in functions such as mean, variations, media, or test etc.\n",
    "# # 5- variable name should be short and discriptive\n",
    "# #6- Case sensitivity (lowercase and uppercase letter should be used)\n",
    "\n",
    "fruit_basket=8\n",
    "fruit_basket=15\n",
    "print (fruit_basket)\n",
    "print(type(fruit_basket))\n"
   ]
  },
  {
   "cell_type": "markdown",
   "id": "0ba230e9",
   "metadata": {},
   "source": [
    "**06_Input_Variables**"
   ]
  },
  {
   "cell_type": "code",
   "execution_count": 6,
   "id": "ea1ba1ac-1bb5-4938-8398-5828e807a00a",
   "metadata": {},
   "outputs": [
    {
     "name": "stdout",
     "output_type": "stream",
     "text": [
      "mangoes\n"
     ]
    },
    {
     "name": "stdout",
     "output_type": "stream",
     "text": [
      "what is your favrouit fruit? Mango\n"
     ]
    },
    {
     "name": "stdout",
     "output_type": "stream",
     "text": [
      "Mango\n"
     ]
    },
    {
     "name": "stdout",
     "output_type": "stream",
     "text": [
      "what is your name Saif\n"
     ]
    },
    {
     "name": "stdout",
     "output_type": "stream",
     "text": [
      "hello Saif\n"
     ]
    },
    {
     "name": "stdout",
     "output_type": "stream",
     "text": [
      "what is your name Saif\n"
     ]
    },
    {
     "name": "stdout",
     "output_type": "stream",
     "text": [
      "Hello Saif\n"
     ]
    },
    {
     "name": "stdout",
     "output_type": "stream",
     "text": [
      "what is your name?  Saif\n",
      "how old are you?  23\n"
     ]
    },
    {
     "name": "stdout",
     "output_type": "stream",
     "text": [
      "Hello! Saif , you are still young\n"
     ]
    }
   ],
   "source": [
    "fruit_basket=\"Mangoes\"\n",
    "print(fruit_basket)\n",
    "\n",
    "# input function simple\n",
    "\n",
    "fruit_basket=input(\"What is your favrouit fruit?\")\n",
    "print(fruit_basket)\n",
    "#input function 2nd staged\n",
    "name=input(\"What is your name\")\n",
    "greetings=\"hello\"\n",
    "print(greetings, name)\n",
    "\n",
    "# an other way of stage 2 function \n",
    "name=input(\"what is your name\")\n",
    "print(\"Hello\", name)\n",
    "\n",
    "# 3rd stage input function \n",
    "name=input(\"what is your name? \")\n",
    "age=input(\"how old are you? \")\n",
    "greetings=\"Hello!\"\n",
    "print(greetings, name, \", you are still young\")"
   ]
  },
  {
   "cell_type": "markdown",
   "id": "fcdf2da4",
   "metadata": {},
   "source": [
    "**07_Conditional_logic_operators**"
   ]
  },
  {
   "cell_type": "code",
   "execution_count": 7,
   "id": "cacdb891",
   "metadata": {},
   "outputs": [
    {
     "name": "stdout",
     "output_type": "stream",
     "text": [
      "True\n",
      "False\n",
      "False\n"
     ]
    },
    {
     "name": "stdout",
     "output_type": "stream",
     "text": [
      "how old is hammad?  5\n"
     ]
    },
    {
     "name": "stdout",
     "output_type": "stream",
     "text": [
      "<class 'int'>\n",
      "True\n"
     ]
    }
   ],
   "source": [
    "#logical operators are either \"true or false\" or \"yes or no\" or \"0 or 1\"\n",
    "# equal to                      == \n",
    "#not equal to                   != \n",
    "# less than                     < \n",
    "# greater than                  > \n",
    "# less than and equal to        <= \n",
    "# greater than and equal to     >=\n",
    "#is 4 eual to 4\n",
    "print(4==4)\n",
    "print(4!=4)\n",
    "\n",
    "# application of logical operators   \n",
    "age_at_school=5\n",
    "hammad_age=4\n",
    "print(age_at_school==hammad_age)\n",
    "\n",
    "#input function and logical operators  \n",
    "age_at_school=5\n",
    "hammad_age=input(\"how old is hammad? \") #input function \n",
    "hammad_age=int(hammad_age)\n",
    "print(type(hammad_age))\n",
    "print(age_at_school==hammad_age)"
   ]
  },
  {
   "cell_type": "markdown",
   "id": "bc576e42",
   "metadata": {},
   "source": [
    "**08_Type_conversion**"
   ]
  },
  {
   "cell_type": "code",
   "execution_count": 8,
   "id": "d31d34af",
   "metadata": {},
   "outputs": [
    {
     "name": "stdout",
     "output_type": "stream",
     "text": [
      "<class 'int'>\n",
      "<class 'float'>\n",
      "<class 'str'>\n",
      "112.2 type of x <class 'float'>\n"
     ]
    },
    {
     "name": "stdout",
     "output_type": "stream",
     "text": [
      "what is your age?  23\n"
     ]
    },
    {
     "name": "stdout",
     "output_type": "stream",
     "text": [
      "23 <class 'int'>\n"
     ]
    },
    {
     "name": "stdout",
     "output_type": "stream",
     "text": [
      "what is your name?  Saif\n"
     ]
    },
    {
     "name": "stdout",
     "output_type": "stream",
     "text": [
      "Saif <class 'str'>\n"
     ]
    }
   ],
   "source": [
    "x=10\n",
    "y=10.2\n",
    "z=\"Hello\"\n",
    "print(type(x))          # integers\n",
    "print(type(y))          # float \n",
    "print(type(z))          # string \n",
    "\n",
    "# #implicit_type _of_conversion \n",
    "x=x*y\n",
    "x=y+x\n",
    "print(x,\"type of x\",type(x))\n",
    "\n",
    "#explicit_type_of_conversion \n",
    "age=input(\"what is your age? \")\n",
    "age=int(age)\n",
    "print(age, type(int(age)))\n",
    "\n",
    "#name \n",
    "name=input(\"what is your name? \")\n",
    "print(name, type(str(name)))"
   ]
  },
  {
   "cell_type": "markdown",
   "id": "8716a41b",
   "metadata": {},
   "source": [
    "**09_if,else, elif**"
   ]
  },
  {
   "cell_type": "code",
   "execution_count": 7,
   "id": "a8c4db45",
   "metadata": {},
   "outputs": [
    {
     "name": "stdout",
     "output_type": "stream",
     "text": [
      "hammad can not join the school\n"
     ]
    }
   ],
   "source": [
    "required_age_school=5\n",
    "hammad_age= 3\n",
    "#question: can hammad go to school?\n",
    "if hammad_age==required_age_school:\n",
    "    print(\"Congratulation!hammad can join the shool\")\n",
    "elif hammad_age>required_age_school:\n",
    "    print(\"hammad should join higher secondary scool\")\n",
    "elif hammad_age==2:\n",
    "    print(\"you should take care of hammad\")\n",
    "else:\n",
    "    print(\"hammad can not join the school\")\n",
    "    \n"
   ]
  },
  {
   "cell_type": "markdown",
   "id": "4ab355c4",
   "metadata": {},
   "source": [
    "**11_loops**"
   ]
  },
  {
   "cell_type": "code",
   "execution_count": 10,
   "id": "fd712a6b",
   "metadata": {},
   "outputs": [
    {
     "name": "stdout",
     "output_type": "stream",
     "text": [
      "monday\n",
      "tuesday\n",
      "wednesday\n",
      "thursday\n",
      "saturday\n",
      "sunday\n"
     ]
    }
   ],
   "source": [
    "#while loops and For loops \n",
    "#while loops\n",
    "# x=0\n",
    "# while x<5:\n",
    "#     print(x)\n",
    "#     x=x+1\n",
    "\n",
    "# x=0\n",
    "# while x<=5:\n",
    "#     print(x)\n",
    "#     x=x+1\n",
    "\n",
    "# for loop\n",
    "\n",
    "#for x in range(5, 10):\n",
    " #   print(x)\n",
    " \n",
    "# array \n",
    "days = (\"monday\", \"tuesday\", \"wednesday\", \"thursday\", \"friday\", \"saturday\", \"sunday\")\n",
    " \n",
    "for d in days:\n",
    "   # print(d)\n",
    "    #if (d==\"friday\"):break             #loop stops \n",
    "    if (d==\"friday\"):continue            #loop skip\n",
    "    print(d)"
   ]
  },
  {
   "cell_type": "markdown",
   "id": "4e952da7",
   "metadata": {},
   "source": [
    "**12_import_libraries**"
   ]
  },
  {
   "cell_type": "code",
   "execution_count": 11,
   "id": "c98ee113",
   "metadata": {},
   "outputs": [
    {
     "name": "stdout",
     "output_type": "stream",
     "text": [
      "the value of pi is 3.141592653589793\n",
      "300\n"
     ]
    }
   ],
   "source": [
    "#if you want to import the value of pi \n",
    "\n",
    "import math\n",
    "print(\"the value of pi is\", math.pi)\n",
    "\n",
    "import statistics\n",
    "x=(150, 250, 350, 450)\n",
    "print(statistics.mean(x))\n",
    "\n",
    "#name of libraries such as numpy, pandas,etc"
   ]
  },
  {
   "cell_type": "markdown",
   "id": "db88b38b-b915-4d2c-b426-815a1f1e3920",
   "metadata": {},
   "source": [
    "## **13_Trouble_shooting**"
   ]
  },
  {
   "cell_type": "code",
   "execution_count": 12,
   "id": "f579ac15",
   "metadata": {},
   "outputs": [
    {
     "name": "stdout",
     "output_type": "stream",
     "text": [
      "Hello Saif!\n"
     ]
    }
   ],
   "source": [
    "#print(we are learning python with ammar)\n",
    "#invalid syntax. Perhaps you forgot a comma? \n",
    "#print(\"we are learning python with ammar\")\n",
    "\n",
    "\n",
    "#print(25/0)                #runtime error\n",
    "\n",
    "name=\"Saif!\"\n",
    "print(\"Hello\", name)"
   ]
  }
 ],
 "metadata": {
  "kernelspec": {
   "display_name": "Python 3.10.1 64-bit",
   "language": "python",
   "name": "python3"
  },
  "language_info": {
   "codemirror_mode": {
    "name": "ipython",
    "version": 3
   },
   "file_extension": ".py",
   "mimetype": "text/x-python",
   "name": "python",
   "nbconvert_exporter": "python",
   "pygments_lexer": "ipython3",
   "version": "3.10.1"
  },
  "vscode": {
   "interpreter": {
    "hash": "aee8b7b246df8f9039afb4144a1f6fd8d2ca17a180786b69acc140d282b71a49"
   }
  }
 },
 "nbformat": 4,
 "nbformat_minor": 5
}
