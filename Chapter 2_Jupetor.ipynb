{
 "cells": [
  {
   "cell_type": "markdown",
   "id": "531b7422",
   "metadata": {},
   "source": [
    "# **Chapter 2.**"
   ]
  },
  {
   "cell_type": "markdown",
   "id": "92b7ddb9",
   "metadata": {},
   "source": [
    "# Basics of indexing, markdown language, and data structure."
   ]
  },
  {
   "cell_type": "markdown",
   "id": "73814323",
   "metadata": {},
   "source": [
    "# Indexing"
   ]
  },
  {
   "cell_type": "code",
   "execution_count": 1,
   "id": "86adf8a1",
   "metadata": {
    "tags": []
   },
   "outputs": [
    {
     "data": {
      "text/plain": [
       "'samosa pakora'"
      ]
     },
     "execution_count": 1,
     "metadata": {},
     "output_type": "execute_result"
    }
   ],
   "source": [
    "# make a string\n",
    "a=\"samosa pakora\"\n",
    "a"
   ]
  },
  {
   "cell_type": "code",
   "execution_count": 2,
   "id": "329f4974",
   "metadata": {},
   "outputs": [
    {
     "data": {
      "text/plain": [
       "'s'"
      ]
     },
     "execution_count": 2,
     "metadata": {},
     "output_type": "execute_result"
    }
   ],
   "source": [
    "a[0]"
   ]
  },
  {
   "cell_type": "code",
   "execution_count": 3,
   "id": "96828ecc",
   "metadata": {},
   "outputs": [
    {
     "data": {
      "text/plain": [
       "'a'"
      ]
     },
     "execution_count": 3,
     "metadata": {},
     "output_type": "execute_result"
    }
   ],
   "source": [
    "a[1]"
   ]
  },
  {
   "cell_type": "code",
   "execution_count": 4,
   "id": "7e71866b",
   "metadata": {},
   "outputs": [
    {
     "data": {
      "text/plain": [
       "'m'"
      ]
     },
     "execution_count": 4,
     "metadata": {},
     "output_type": "execute_result"
    }
   ],
   "source": [
    "a[2]"
   ]
  },
  {
   "cell_type": "code",
   "execution_count": 5,
   "id": "acc7322e",
   "metadata": {},
   "outputs": [
    {
     "data": {
      "text/plain": [
       "'o'"
      ]
     },
     "execution_count": 5,
     "metadata": {},
     "output_type": "execute_result"
    }
   ],
   "source": [
    "a[3]"
   ]
  },
  {
   "cell_type": "code",
   "execution_count": 6,
   "id": "fe8a5b85",
   "metadata": {},
   "outputs": [
    {
     "data": {
      "text/plain": [
       "'r'"
      ]
     },
     "execution_count": 6,
     "metadata": {},
     "output_type": "execute_result"
    }
   ],
   "source": [
    "a[11]"
   ]
  },
  {
   "cell_type": "code",
   "execution_count": 7,
   "id": "db1869b7",
   "metadata": {},
   "outputs": [
    {
     "data": {
      "text/plain": [
       "'samosa'"
      ]
     },
     "execution_count": 7,
     "metadata": {},
     "output_type": "execute_result"
    }
   ],
   "source": [
    "a[0:6]"
   ]
  },
  {
   "cell_type": "code",
   "execution_count": 8,
   "id": "c904e717-0dac-4cd3-9328-525959c9c057",
   "metadata": {},
   "outputs": [
    {
     "data": {
      "text/plain": [
       "13"
      ]
     },
     "execution_count": 8,
     "metadata": {},
     "output_type": "execute_result"
    }
   ],
   "source": [
    "len(a)"
   ]
  },
  {
   "cell_type": "code",
   "execution_count": 62,
   "id": "378fdee4",
   "metadata": {},
   "outputs": [
    {
     "data": {
      "text/plain": [
       "'samosa pakora'"
      ]
     },
     "execution_count": 62,
     "metadata": {},
     "output_type": "execute_result"
    }
   ],
   "source": [
    "a[0:13]"
   ]
  },
  {
   "cell_type": "code",
   "execution_count": 10,
   "id": "a9afa8e4",
   "metadata": {},
   "outputs": [
    {
     "data": {
      "text/plain": [
       "'baryani'"
      ]
     },
     "execution_count": 10,
     "metadata": {},
     "output_type": "execute_result"
    }
   ],
   "source": [
    "food=\"baryani\"\n",
    "food"
   ]
  },
  {
   "cell_type": "markdown",
   "id": "d0dd12ff",
   "metadata": {},
   "source": [
    "# markdown method"
   ]
  },
  {
   "cell_type": "code",
   "execution_count": 11,
   "id": "1fe101cc",
   "metadata": {},
   "outputs": [
    {
     "data": {
      "text/plain": [
       "'baryani'"
      ]
     },
     "execution_count": 11,
     "metadata": {},
     "output_type": "execute_result"
    }
   ],
   "source": [
    "food"
   ]
  },
  {
   "cell_type": "code",
   "execution_count": 12,
   "id": "2fe46953",
   "metadata": {},
   "outputs": [
    {
     "data": {
      "text/plain": [
       "7"
      ]
     },
     "execution_count": 12,
     "metadata": {},
     "output_type": "execute_result"
    }
   ],
   "source": [
    "len(food)"
   ]
  },
  {
   "cell_type": "code",
   "execution_count": 13,
   "id": "aa5fa91c",
   "metadata": {},
   "outputs": [
    {
     "data": {
      "text/plain": [
       "'y'"
      ]
     },
     "execution_count": 13,
     "metadata": {},
     "output_type": "execute_result"
    }
   ],
   "source": [
    "food[3]"
   ]
  },
  {
   "cell_type": "code",
   "execution_count": 14,
   "id": "33ed565e",
   "metadata": {},
   "outputs": [
    {
     "data": {
      "text/plain": [
       "7"
      ]
     },
     "execution_count": 14,
     "metadata": {},
     "output_type": "execute_result"
    }
   ],
   "source": [
    "len(food)"
   ]
  },
  {
   "cell_type": "code",
   "execution_count": 15,
   "id": "ce463e41",
   "metadata": {},
   "outputs": [
    {
     "data": {
      "text/plain": [
       "'Baryani'"
      ]
     },
     "execution_count": 15,
     "metadata": {},
     "output_type": "execute_result"
    }
   ],
   "source": [
    "#capitiliza every letters\n",
    "food.capitalize()"
   ]
  },
  {
   "cell_type": "code",
   "execution_count": 16,
   "id": "963d0c3d",
   "metadata": {},
   "outputs": [
    {
     "data": {
      "text/plain": [
       "'BARYANI'"
      ]
     },
     "execution_count": 16,
     "metadata": {},
     "output_type": "execute_result"
    }
   ],
   "source": [
    "#upper case letters\n",
    "food.upper()"
   ]
  },
  {
   "cell_type": "code",
   "execution_count": 17,
   "id": "07f8d7c0",
   "metadata": {},
   "outputs": [
    {
     "data": {
      "text/plain": [
       "'baryani'"
      ]
     },
     "execution_count": 17,
     "metadata": {},
     "output_type": "execute_result"
    }
   ],
   "source": [
    "#lower case letters\n",
    "food.lower()"
   ]
  },
  {
   "cell_type": "code",
   "execution_count": 18,
   "id": "6b4512ee",
   "metadata": {},
   "outputs": [
    {
     "data": {
      "text/plain": [
       "'sharyani'"
      ]
     },
     "execution_count": 18,
     "metadata": {},
     "output_type": "execute_result"
    }
   ],
   "source": [
    "#replace letters\n",
    "food.replace(\"b\",\"sh\")"
   ]
  },
  {
   "cell_type": "code",
   "execution_count": 19,
   "id": "bc754af2",
   "metadata": {},
   "outputs": [
    {
     "data": {
      "text/plain": [
       "'baba_aamar with Dr. Aamar Tufail'"
      ]
     },
     "execution_count": 19,
     "metadata": {},
     "output_type": "execute_result"
    }
   ],
   "source": [
    "#counting a specific alphabet in a string\n",
    "name=\"baba_aamar with Dr. Aamar Tufail\"\n",
    "name"
   ]
  },
  {
   "cell_type": "code",
   "execution_count": 20,
   "id": "2c2e226f",
   "metadata": {},
   "outputs": [
    {
     "data": {
      "text/plain": [
       "8"
      ]
     },
     "execution_count": 20,
     "metadata": {},
     "output_type": "execute_result"
    }
   ],
   "source": [
    "name.count(\"a\")"
   ]
  },
  {
   "cell_type": "markdown",
   "id": "9c3e82f7",
   "metadata": {},
   "source": [
    "  # Finding an index number in a string"
   ]
  },
  {
   "cell_type": "code",
   "execution_count": 21,
   "id": "129e29e6",
   "metadata": {},
   "outputs": [
    {
     "data": {
      "text/plain": [
       "13"
      ]
     },
     "execution_count": 21,
     "metadata": {},
     "output_type": "execute_result"
    }
   ],
   "source": [
    "name=\"baba_aamar with Dr. Aamar Tufail\"\n",
    "name.find(\"t\")"
   ]
  },
  {
   "cell_type": "markdown",
   "id": "9b211bba",
   "metadata": {},
   "source": [
    "# How to split a string"
   ]
  },
  {
   "cell_type": "code",
   "execution_count": 22,
   "id": "68798256",
   "metadata": {},
   "outputs": [
    {
     "data": {
      "text/plain": [
       "['I love samosa', ' pakora', ' raita', ' baryani and karahi']"
      ]
     },
     "execution_count": 22,
     "metadata": {},
     "output_type": "execute_result"
    }
   ],
   "source": [
    "food=\"I love samosa, pakora, raita, baryani and karahi\"\n",
    "food.split(\",\")"
   ]
  },
  {
   "cell_type": "markdown",
   "id": "9564bf03-44c5-4d5f-b83b-1d585c2ef6aa",
   "metadata": {
    "tags": []
   },
   "source": [
    "# Basic data sets in python\n",
    "\n",
    "- Tuple\n",
    "- Lists\n",
    "- Dictonaries\n",
    "- Sets"
   ]
  },
  {
   "cell_type": "markdown",
   "id": "45f81bd6-0cda-4a63-b870-ea5c14d40f8a",
   "metadata": {
    "tags": []
   },
   "source": [
    "## 1-Tuple\n",
    "\n",
    "- Ordered collection elements\n",
    "- Enclosed in parenthesis\n",
    "- Can store different kinds of elements\n",
    "- Onece elements store, then you can not change them (unmutateable)"
   ]
  },
  {
   "cell_type": "code",
   "execution_count": 66,
   "id": "4315576e",
   "metadata": {},
   "outputs": [
    {
     "data": {
      "text/plain": [
       "(1, 'python', 2.5, True)"
      ]
     },
     "execution_count": 66,
     "metadata": {},
     "output_type": "execute_result"
    }
   ],
   "source": [
    "tup1=(1,\"python\",2.5,True)\n",
    "tup1"
   ]
  },
  {
   "cell_type": "code",
   "execution_count": 67,
   "id": "c3207621",
   "metadata": {},
   "outputs": [
    {
     "data": {
      "text/plain": [
       "tuple"
      ]
     },
     "execution_count": 67,
     "metadata": {},
     "output_type": "execute_result"
    }
   ],
   "source": [
    "#types of tuple\n",
    "type(tup1)"
   ]
  },
  {
   "cell_type": "markdown",
   "id": "e7982025",
   "metadata": {},
   "source": [
    "### -indexing tuple"
   ]
  },
  {
   "cell_type": "code",
   "execution_count": 68,
   "id": "1cfd8e2a",
   "metadata": {},
   "outputs": [
    {
     "data": {
      "text/plain": [
       "1"
      ]
     },
     "execution_count": 68,
     "metadata": {},
     "output_type": "execute_result"
    }
   ],
   "source": [
    "tup1[0]"
   ]
  },
  {
   "cell_type": "code",
   "execution_count": 69,
   "id": "12eafcba",
   "metadata": {},
   "outputs": [
    {
     "data": {
      "text/plain": [
       "'python'"
      ]
     },
     "execution_count": 69,
     "metadata": {},
     "output_type": "execute_result"
    }
   ],
   "source": [
    "tup1[1]"
   ]
  },
  {
   "cell_type": "code",
   "execution_count": 70,
   "id": "da2d6879",
   "metadata": {
    "tags": []
   },
   "outputs": [
    {
     "data": {
      "text/plain": [
       "2.5"
      ]
     },
     "execution_count": 70,
     "metadata": {},
     "output_type": "execute_result"
    }
   ],
   "source": [
    "tup2[2]"
   ]
  },
  {
   "cell_type": "code",
   "execution_count": 28,
   "id": "0c822c98",
   "metadata": {},
   "outputs": [
    {
     "data": {
      "text/plain": [
       "True"
      ]
     },
     "execution_count": 28,
     "metadata": {},
     "output_type": "execute_result"
    }
   ],
   "source": [
    "tup1[3]"
   ]
  },
  {
   "cell_type": "code",
   "execution_count": 29,
   "id": "02718897",
   "metadata": {},
   "outputs": [
    {
     "data": {
      "text/plain": [
       "(1, 'python', 2.5)"
      ]
     },
     "execution_count": 29,
     "metadata": {},
     "output_type": "execute_result"
    }
   ],
   "source": [
    "## last element in python is exclusive because it starts from zero.\n",
    "tup1[0:3]"
   ]
  },
  {
   "cell_type": "code",
   "execution_count": 30,
   "id": "ebfd29a1",
   "metadata": {},
   "outputs": [
    {
     "data": {
      "text/plain": [
       "4"
      ]
     },
     "execution_count": 30,
     "metadata": {},
     "output_type": "execute_result"
    }
   ],
   "source": [
    "# count of elements in tuple\n",
    "len(tups)"
   ]
  },
  {
   "cell_type": "code",
   "execution_count": 71,
   "id": "8ddc573d",
   "metadata": {},
   "outputs": [
    {
     "data": {
      "text/plain": [
       "(3, 'baba', False, 2.5)"
      ]
     },
     "execution_count": 71,
     "metadata": {},
     "output_type": "execute_result"
    }
   ],
   "source": [
    "tup2=(3,\"baba\", False,2.5)\n",
    "tup2"
   ]
  },
  {
   "cell_type": "code",
   "execution_count": 72,
   "id": "35e82174",
   "metadata": {},
   "outputs": [
    {
     "data": {
      "text/plain": [
       "(1, 'python', 2.5, True)"
      ]
     },
     "execution_count": 72,
     "metadata": {},
     "output_type": "execute_result"
    }
   ],
   "source": [
    "tup1=(1,\"python\",2.5,True)\n",
    "tup1"
   ]
  },
  {
   "cell_type": "code",
   "execution_count": 73,
   "id": "2a8fc26e",
   "metadata": {},
   "outputs": [
    {
     "data": {
      "text/plain": [
       "(1, 'python', 2.5, True, 3, 'baba', False, 2.5)"
      ]
     },
     "execution_count": 73,
     "metadata": {},
     "output_type": "execute_result"
    }
   ],
   "source": [
    "#concatinate (to add tuples more than one etc)\n",
    "tup1+tup2"
   ]
  },
  {
   "cell_type": "code",
   "execution_count": 74,
   "id": "363f2b07",
   "metadata": {},
   "outputs": [
    {
     "data": {
      "text/plain": [
       "(1,\n",
       " 'python',\n",
       " 2.5,\n",
       " True,\n",
       " 1,\n",
       " 'python',\n",
       " 2.5,\n",
       " True,\n",
       " 1,\n",
       " 'python',\n",
       " 2.5,\n",
       " True,\n",
       " 3,\n",
       " 'baba',\n",
       " False,\n",
       " 2.5)"
      ]
     },
     "execution_count": 74,
     "metadata": {},
     "output_type": "execute_result"
    }
   ],
   "source": [
    "#to replicate tuples\n",
    "(tup1*3)+tup2"
   ]
  },
  {
   "cell_type": "code",
   "execution_count": 75,
   "id": "7b3f4f01",
   "metadata": {},
   "outputs": [
    {
     "data": {
      "text/plain": [
       "(20, 30, 50, 70, 90, 200)"
      ]
     },
     "execution_count": 75,
     "metadata": {},
     "output_type": "execute_result"
    }
   ],
   "source": [
    "tup3=(20,30,50,70,90,200)\n",
    "tup3"
   ]
  },
  {
   "cell_type": "code",
   "execution_count": 36,
   "id": "14aadc87",
   "metadata": {},
   "outputs": [
    {
     "data": {
      "text/plain": [
       "20"
      ]
     },
     "execution_count": 36,
     "metadata": {},
     "output_type": "execute_result"
    }
   ],
   "source": [
    "min(tup3)"
   ]
  },
  {
   "cell_type": "code",
   "execution_count": 37,
   "id": "a6330789",
   "metadata": {},
   "outputs": [
    {
     "data": {
      "text/plain": [
       "200"
      ]
     },
     "execution_count": 37,
     "metadata": {},
     "output_type": "execute_result"
    }
   ],
   "source": [
    "max(tup3)"
   ]
  },
  {
   "cell_type": "markdown",
   "id": "d024b368-72ea-4a48-8e7d-e46dd03922fe",
   "metadata": {},
   "source": [
    "---"
   ]
  },
  {
   "cell_type": "markdown",
   "id": "a3bd17b6",
   "metadata": {},
   "source": [
    "\n"
   ]
  },
  {
   "cell_type": "markdown",
   "id": "c958d06e",
   "metadata": {
    "tags": []
   },
   "source": [
    "## 2- Lists \n",
    "- Ordered collections of elements\n",
    "- Enclosed in []square brackets\n",
    "- Can store different datasets\n",
    "- Mutatateable (you can change the values)"
   ]
  },
  {
   "cell_type": "code",
   "execution_count": 38,
   "id": "b58bf6be",
   "metadata": {},
   "outputs": [
    {
     "data": {
      "text/plain": [
       "[3, 'baba', False, 2.5]"
      ]
     },
     "execution_count": 38,
     "metadata": {},
     "output_type": "execute_result"
    }
   ],
   "source": [
    "list1=[3,\"baba\", False,2.5]\n",
    "list1"
   ]
  },
  {
   "cell_type": "code",
   "execution_count": 39,
   "id": "0898f167",
   "metadata": {},
   "outputs": [
    {
     "data": {
      "text/plain": [
       "4"
      ]
     },
     "execution_count": 39,
     "metadata": {},
     "output_type": "execute_result"
    }
   ],
   "source": [
    "len(list1)"
   ]
  },
  {
   "cell_type": "code",
   "execution_count": 40,
   "id": "bf183262",
   "metadata": {},
   "outputs": [
    {
     "data": {
      "text/plain": [
       "list"
      ]
     },
     "execution_count": 40,
     "metadata": {},
     "output_type": "execute_result"
    }
   ],
   "source": [
    "type(list1)"
   ]
  },
  {
   "cell_type": "code",
   "execution_count": 41,
   "id": "7d4b15b3",
   "metadata": {},
   "outputs": [
    {
     "data": {
      "text/plain": [
       "False"
      ]
     },
     "execution_count": 41,
     "metadata": {},
     "output_type": "execute_result"
    }
   ],
   "source": [
    "list1[2]"
   ]
  },
  {
   "cell_type": "code",
   "execution_count": 42,
   "id": "0431fbc7",
   "metadata": {},
   "outputs": [
    {
     "data": {
      "text/plain": [
       "[5, 3, 'aamar', 'codanics', 470, 52.3, False]"
      ]
     },
     "execution_count": 42,
     "metadata": {},
     "output_type": "execute_result"
    }
   ],
   "source": [
    "list2=[5,3,\"aamar\", \"codanics\",470,52.3,False]\n",
    "list2"
   ]
  },
  {
   "cell_type": "code",
   "execution_count": 43,
   "id": "d091ef6c",
   "metadata": {},
   "outputs": [
    {
     "data": {
      "text/plain": [
       "[3, 'baba', False, 2.5, 5, 3, 'aamar', 'codanics', 470, 52.3, False]"
      ]
     },
     "execution_count": 43,
     "metadata": {},
     "output_type": "execute_result"
    }
   ],
   "source": [
    "list1+list2"
   ]
  },
  {
   "cell_type": "code",
   "execution_count": 44,
   "id": "03f21ead",
   "metadata": {},
   "outputs": [
    {
     "data": {
      "text/plain": [
       "[3, 'baba', False, 2.5, 3, 'baba', False, 2.5]"
      ]
     },
     "execution_count": 44,
     "metadata": {},
     "output_type": "execute_result"
    }
   ],
   "source": [
    "list1*2"
   ]
  },
  {
   "cell_type": "code",
   "execution_count": 45,
   "id": "9fc88ac2",
   "metadata": {},
   "outputs": [
    {
     "data": {
      "text/plain": [
       "[2.5, False, 'baba', 3]"
      ]
     },
     "execution_count": 45,
     "metadata": {},
     "output_type": "execute_result"
    }
   ],
   "source": [
    "list1.reverse()\n",
    "list1"
   ]
  },
  {
   "cell_type": "code",
   "execution_count": 46,
   "id": "dfbb8456",
   "metadata": {},
   "outputs": [
    {
     "data": {
      "text/plain": [
       "[3, 'baba', False, 2.5]"
      ]
     },
     "execution_count": 46,
     "metadata": {},
     "output_type": "execute_result"
    }
   ],
   "source": [
    "list1.reverse()\n",
    "list1"
   ]
  },
  {
   "cell_type": "code",
   "execution_count": 80,
   "id": "432c9f32",
   "metadata": {},
   "outputs": [
    {
     "data": {
      "text/plain": [
       "['saif', 2, 4, 'sam', False]"
      ]
     },
     "execution_count": 80,
     "metadata": {},
     "output_type": "execute_result"
    }
   ],
   "source": [
    "abc=[\"saif\",2,4,\"sam\",False]\n",
    "abc"
   ]
  },
  {
   "cell_type": "code",
   "execution_count": 81,
   "id": "fe7496ec",
   "metadata": {},
   "outputs": [],
   "source": [
    "abc.reverse()"
   ]
  },
  {
   "cell_type": "code",
   "execution_count": 82,
   "id": "28e59e38",
   "metadata": {},
   "outputs": [
    {
     "data": {
      "text/plain": [
       "[False, 'sam', 4, 2, 'saif']"
      ]
     },
     "execution_count": 82,
     "metadata": {},
     "output_type": "execute_result"
    }
   ],
   "source": [
    "abc"
   ]
  },
  {
   "cell_type": "code",
   "execution_count": 83,
   "id": "dc4601e8",
   "metadata": {},
   "outputs": [
    {
     "data": {
      "text/plain": [
       "[False, 'sam', 4, 2, 'saif', 'we are learning python with baba aamar']"
      ]
     },
     "execution_count": 83,
     "metadata": {},
     "output_type": "execute_result"
    }
   ],
   "source": [
    "abc.append(\"we are learning python with baba aamar\")\n",
    "abc"
   ]
  },
  {
   "cell_type": "code",
   "execution_count": 84,
   "id": "6307eb6d",
   "metadata": {},
   "outputs": [
    {
     "data": {
      "text/plain": [
       "[]"
      ]
     },
     "execution_count": 84,
     "metadata": {},
     "output_type": "execute_result"
    }
   ],
   "source": [
    "abc.clear()\n",
    "abc"
   ]
  },
  {
   "cell_type": "code",
   "execution_count": 85,
   "id": "e7bc3c23",
   "metadata": {},
   "outputs": [
    {
     "data": {
      "text/plain": [
       "[3, 'baba', False, 2.5]"
      ]
     },
     "execution_count": 85,
     "metadata": {},
     "output_type": "execute_result"
    }
   ],
   "source": [
    "list1"
   ]
  },
  {
   "cell_type": "code",
   "execution_count": 86,
   "id": "b4b291ba",
   "metadata": {},
   "outputs": [
    {
     "data": {
      "text/plain": [
       "[2, 3, 3, 4, 4, 5, 5, 5, 5, 6, 7, 'saif', 'saif', 'saiqa', 'saiqa']"
      ]
     },
     "execution_count": 86,
     "metadata": {},
     "output_type": "execute_result"
    }
   ],
   "source": [
    "abc=[2,3,3,4,4,5,5,5,5,6,7,\"saif\", \"saif\",\"saiqa\",\"saiqa\"]\n",
    "abc"
   ]
  },
  {
   "cell_type": "code",
   "execution_count": 87,
   "id": "fce6e054",
   "metadata": {},
   "outputs": [
    {
     "data": {
      "text/plain": [
       "2"
      ]
     },
     "execution_count": 87,
     "metadata": {},
     "output_type": "execute_result"
    }
   ],
   "source": [
    "abc.count(('saif'))"
   ]
  },
  {
   "cell_type": "code",
   "execution_count": 55,
   "id": "1f0b8726",
   "metadata": {},
   "outputs": [
    {
     "data": {
      "text/plain": [
       "2"
      ]
     },
     "execution_count": 55,
     "metadata": {},
     "output_type": "execute_result"
    }
   ],
   "source": [
    "abc.count(('saiqa'))"
   ]
  },
  {
   "cell_type": "code",
   "execution_count": 56,
   "id": "503d2052",
   "metadata": {},
   "outputs": [
    {
     "data": {
      "text/plain": [
       "[12, 24, 35, 35, 67, 58, 14, 34, 12, 13, 14, 34, 45]"
      ]
     },
     "execution_count": 56,
     "metadata": {},
     "output_type": "execute_result"
    }
   ],
   "source": [
    "list3=[12,24,35,35,67,58,14,34,12,13,14,34,45]\n",
    "list3"
   ]
  },
  {
   "cell_type": "code",
   "execution_count": 57,
   "id": "8c3a5a80",
   "metadata": {},
   "outputs": [
    {
     "data": {
      "text/plain": [
       "13"
      ]
     },
     "execution_count": 57,
     "metadata": {},
     "output_type": "execute_result"
    }
   ],
   "source": [
    "len(list3)"
   ]
  },
  {
   "cell_type": "code",
   "execution_count": 58,
   "id": "041ea071",
   "metadata": {},
   "outputs": [
    {
     "data": {
      "text/plain": [
       "[12, 12, 13, 14, 14, 24, 34, 34, 35, 35, 45, 58, 67]"
      ]
     },
     "execution_count": 58,
     "metadata": {},
     "output_type": "execute_result"
    }
   ],
   "source": [
    "list3.sort()\n",
    "list3"
   ]
  },
  {
   "cell_type": "code",
   "execution_count": 59,
   "id": "1450d3db",
   "metadata": {},
   "outputs": [
    {
     "data": {
      "text/plain": [
       "[12,\n",
       " 12,\n",
       " 13,\n",
       " 14,\n",
       " 14,\n",
       " 24,\n",
       " 34,\n",
       " 34,\n",
       " 35,\n",
       " 35,\n",
       " 45,\n",
       " 58,\n",
       " 67,\n",
       " 12,\n",
       " 12,\n",
       " 13,\n",
       " 14,\n",
       " 14,\n",
       " 24,\n",
       " 34,\n",
       " 34,\n",
       " 35,\n",
       " 35,\n",
       " 45,\n",
       " 58,\n",
       " 67,\n",
       " 12,\n",
       " 12,\n",
       " 13,\n",
       " 14,\n",
       " 14,\n",
       " 24,\n",
       " 34,\n",
       " 34,\n",
       " 35,\n",
       " 35,\n",
       " 45,\n",
       " 58,\n",
       " 67]"
      ]
     },
     "execution_count": 59,
     "metadata": {},
     "output_type": "execute_result"
    }
   ],
   "source": [
    "list3*3"
   ]
  },
  {
   "cell_type": "code",
   "execution_count": 88,
   "id": "bf4236a5",
   "metadata": {
    "scrolled": true
   },
   "outputs": [
    {
     "data": {
      "text/plain": [
       "[3,\n",
       " 'baba',\n",
       " False,\n",
       " 2.5,\n",
       " 5,\n",
       " 3,\n",
       " 'aamar',\n",
       " 'codanics',\n",
       " 470,\n",
       " 52.3,\n",
       " False,\n",
       " 12,\n",
       " 12,\n",
       " 13,\n",
       " 14,\n",
       " 14,\n",
       " 24,\n",
       " 34,\n",
       " 34,\n",
       " 35,\n",
       " 35,\n",
       " 45,\n",
       " 58,\n",
       " 67]"
      ]
     },
     "execution_count": 88,
     "metadata": {},
     "output_type": "execute_result"
    }
   ],
   "source": [
    "Lists=list1+list2+list3\n",
    "Lists"
   ]
  },
  {
   "cell_type": "markdown",
   "id": "9774ba10",
   "metadata": {
    "jp-MarkdownHeadingCollapsed": true,
    "tags": []
   },
   "source": [
    "## 3- Dictionaries\n",
    "- An unordered collection of elements:\n",
    "- Key and values\n",
    "- Used by curly bracketes {}\n",
    "- Mutateable (You can change the values)"
   ]
  },
  {
   "cell_type": "code",
   "execution_count": 92,
   "id": "3b37c2f4",
   "metadata": {},
   "outputs": [
    {
     "data": {
      "text/plain": [
       "{'samosa': 30, 'pakora': 100, 'raita': 20, 'salad': 50, 'chicken rolls': 150}"
      ]
     },
     "execution_count": 92,
     "metadata": {},
     "output_type": "execute_result"
    }
   ],
   "source": [
    "#Food and their prices\n",
    "food1={\"samosa\":30,\"pakora\":100, \"raita\":20, \"salad\":50,\"chicken rolls\":150,}\n",
    "food1"
   ]
  },
  {
   "cell_type": "code",
   "execution_count": 93,
   "id": "341c4aa4",
   "metadata": {},
   "outputs": [
    {
     "data": {
      "text/plain": [
       "dict"
      ]
     },
     "execution_count": 93,
     "metadata": {},
     "output_type": "execute_result"
    }
   ],
   "source": [
    "type (food1)"
   ]
  },
  {
   "cell_type": "code",
   "execution_count": 95,
   "id": "218c0542-70b8-4390-a92d-ccc7e4bc525e",
   "metadata": {},
   "outputs": [
    {
     "data": {
      "text/plain": [
       "dict_keys(['samosa', 'pakora', 'raita', 'salad', 'chicken rolls'])"
      ]
     },
     "execution_count": 95,
     "metadata": {},
     "output_type": "execute_result"
    }
   ],
   "source": [
    "#extract data\n",
    "keys = food1.keys ()\n",
    "keys"
   ]
  },
  {
   "cell_type": "code",
   "execution_count": 96,
   "id": "1bcaf4b0-1881-4bc0-9a6e-0e6e3d508afd",
   "metadata": {},
   "outputs": [
    {
     "data": {
      "text/plain": [
       "dict_values([30, 100, 20, 50, 150])"
      ]
     },
     "execution_count": 96,
     "metadata": {},
     "output_type": "execute_result"
    }
   ],
   "source": [
    "values = food1.values ()\n",
    "values"
   ]
  },
  {
   "cell_type": "code",
   "execution_count": 97,
   "id": "36beff07-0930-4302-85d5-8d5cf2807bb8",
   "metadata": {},
   "outputs": [
    {
     "data": {
      "text/plain": [
       "{'samosa': 30,\n",
       " 'pakora': 100,\n",
       " 'raita': 20,\n",
       " 'salad': 50,\n",
       " 'chicken rolls': 150,\n",
       " 'Tikki': 10}"
      ]
     },
     "execution_count": 97,
     "metadata": {},
     "output_type": "execute_result"
    }
   ],
   "source": [
    "# adding new elements\n",
    "food1[\"Tikki\"]=10\n",
    "food1"
   ]
  },
  {
   "cell_type": "code",
   "execution_count": 98,
   "id": "3c0ebb91-9c8b-4f5d-a2f6-8a993fa12ffc",
   "metadata": {},
   "outputs": [
    {
     "data": {
      "text/plain": [
       "{'samosa': 30,\n",
       " 'pakora': 100,\n",
       " 'raita': 20,\n",
       " 'salad': 50,\n",
       " 'chicken rolls': 150,\n",
       " 'Tikki': 15}"
      ]
     },
     "execution_count": 98,
     "metadata": {},
     "output_type": "execute_result"
    }
   ],
   "source": [
    "# update the values\n",
    "food1[\"Tikki\"]=15\n",
    "food1"
   ]
  },
  {
   "cell_type": "code",
   "execution_count": 99,
   "id": "28884078-58ea-43bd-b2a9-8c35531bb3ba",
   "metadata": {},
   "outputs": [
    {
     "data": {
      "text/plain": [
       "{'dates': 50, 'choclates': 200, 'sawanya': 1000}"
      ]
     },
     "execution_count": 99,
     "metadata": {},
     "output_type": "execute_result"
    }
   ],
   "source": [
    "food2 ={\"dates\":50, \"choclates\":200,\"sawanya\":1000}\n",
    "food2"
   ]
  },
  {
   "cell_type": "code",
   "execution_count": 102,
   "id": "59ceb4c2-6fcd-4d8b-9383-1fbb0466980c",
   "metadata": {},
   "outputs": [
    {
     "data": {
      "text/plain": [
       "{'samosa': 30,\n",
       " 'pakora': 100,\n",
       " 'raita': 20,\n",
       " 'salad': 50,\n",
       " 'chicken rolls': 150,\n",
       " 'Tikki': 15,\n",
       " 'dates': 50,\n",
       " 'choclates': 200,\n",
       " 'sawanya': 1000}"
      ]
     },
     "execution_count": 102,
     "metadata": {},
     "output_type": "execute_result"
    }
   ],
   "source": [
    "# concatinate\n",
    "food1.update(food2)\n",
    "food1"
   ]
  },
  {
   "cell_type": "code",
   "execution_count": 101,
   "id": "0f73398a-0bfc-4037-adec-95ab9e052a33",
   "metadata": {},
   "outputs": [
    {
     "data": {
      "text/plain": [
       "{'samosa': 30,\n",
       " 'pakora': 100,\n",
       " 'raita': 20,\n",
       " 'salad': 50,\n",
       " 'chicken rolls': 150,\n",
       " 'Tikki': 15,\n",
       " 'dates': 50,\n",
       " 'choclates': 200,\n",
       " 'sawanya': 1000}"
      ]
     },
     "execution_count": 101,
     "metadata": {},
     "output_type": "execute_result"
    }
   ],
   "source": [
    "food1"
   ]
  },
  {
   "cell_type": "markdown",
   "id": "22096120-e843-4c3e-b30f-d380982d7b68",
   "metadata": {},
   "source": [
    "## 4 - Sets\n",
    "- Unordered collection.\n",
    "- Curly braces {} are used.\n",
    "- No duplicates are allowed."
   ]
  },
  {
   "cell_type": "code",
   "execution_count": 112,
   "id": "7bcd9833-6282-4a2d-9e72-c03052c52b4e",
   "metadata": {},
   "outputs": [
    {
     "data": {
      "text/plain": [
       "{1, 2.2, 2.5, 'True', 'aamar', 'codanics', 'faisalabad'}"
      ]
     },
     "execution_count": 112,
     "metadata": {},
     "output_type": "execute_result"
    }
   ],
   "source": [
    "s1={1,2.2,2.5,\"aamar\",\"codanics\", \"faisalabad\",\"True\"}\n",
    "s1"
   ]
  },
  {
   "cell_type": "code",
   "execution_count": 114,
   "id": "f9cab5ba-cbf0-4d82-967c-111f47c9e9f4",
   "metadata": {},
   "outputs": [
    {
     "data": {
      "text/plain": [
       "{1, 2.2, 2.5, 'True', 'aamar', 'aamar1', 'codanics', 'faisalabad'}"
      ]
     },
     "execution_count": 114,
     "metadata": {},
     "output_type": "execute_result"
    }
   ],
   "source": [
    "s1.add (\"aamar1\")\n",
    "s1"
   ]
  },
  {
   "cell_type": "code",
   "execution_count": null,
   "id": "fe8366b3-86b4-4946-b3dd-fc2beb8372aa",
   "metadata": {},
   "outputs": [],
   "source": []
  }
 ],
 "metadata": {
  "kernelspec": {
   "display_name": "Python 3.10.1 64-bit",
   "language": "python",
   "name": "python3"
  },
  "language_info": {
   "codemirror_mode": {
    "name": "ipython",
    "version": 3
   },
   "file_extension": ".py",
   "mimetype": "text/x-python",
   "name": "python",
   "nbconvert_exporter": "python",
   "pygments_lexer": "ipython3",
   "version": "3.10.1"
  },
  "vscode": {
   "interpreter": {
    "hash": "aee8b7b246df8f9039afb4144a1f6fd8d2ca17a180786b69acc140d282b71a49"
   }
  }
 },
 "nbformat": 4,
 "nbformat_minor": 5
}
